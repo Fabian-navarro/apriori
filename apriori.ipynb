{
 "cells": [
  {
   "cell_type": "markdown",
   "id": "3105e877-e8f1-4aa7-a17c-db4bb8ba6ebf",
   "metadata": {},
   "source": [
    "# Apriori\n",
    "## imports"
   ]
  },
  {
   "cell_type": "code",
   "execution_count": 1,
   "id": "10051e5f-4ea2-43dd-94d5-01320cc3c90c",
   "metadata": {},
   "outputs": [],
   "source": [
    "import pandas as pd\n",
    "from itertools import combinations\n",
    "import time"
   ]
  },
  {
   "cell_type": "markdown",
   "id": "c3f77209-2bbb-4899-9c49-9d4bdef87144",
   "metadata": {},
   "source": [
    "## Read csv"
   ]
  },
  {
   "cell_type": "code",
   "execution_count": 2,
   "id": "25b715df-55d6-4f73-8a4d-5843ed6bee7f",
   "metadata": {},
   "outputs": [
    {
     "name": "stdout",
     "output_type": "stream",
     "text": [
      "  TransactionNo       Date ProductNo                          ProductName  \\\n",
      "0        581482  12/9/2019     22485        Set Of 2 Wooden Market Crates   \n",
      "1        581475  12/9/2019     22596  Christmas Star Wish List Chalkboard   \n",
      "2        581475  12/9/2019     23235             Storage Tin Vintage Leaf   \n",
      "3        581475  12/9/2019     23272    Tree T-Light Holder Willie Winkie   \n",
      "4        581475  12/9/2019     23239    Set Of 4 Knick Knack Tins Poppies   \n",
      "5        581475  12/9/2019     21705              Bag 500g Swirly Marbles   \n",
      "6        581475  12/9/2019     22118             Joy Wooden Block Letters   \n",
      "7        581475  12/9/2019     22119           Peace Wooden Block Letters   \n",
      "8        581475  12/9/2019     22217          T-Light Holder Hanging Lace   \n",
      "9        581475  12/9/2019     22216            T-Light Holder White Lace   \n",
      "\n",
      "   Price  Quantity  CustomerNo         Country  \n",
      "0  21.47        12     17490.0  United Kingdom  \n",
      "1  10.65        36     13069.0  United Kingdom  \n",
      "2  11.53        12     13069.0  United Kingdom  \n",
      "3  10.65        12     13069.0  United Kingdom  \n",
      "4  11.94         6     13069.0  United Kingdom  \n",
      "5  10.65        24     13069.0  United Kingdom  \n",
      "6  11.53        18     13069.0  United Kingdom  \n",
      "7  12.25        12     13069.0  United Kingdom  \n",
      "8  10.65        12     13069.0  United Kingdom  \n",
      "9  10.55        24     13069.0  United Kingdom  \n"
     ]
    }
   ],
   "source": [
    "data = pd.read_csv(\"Sales Transaction v.4a.csv\")\n",
    "print(data.head(10))"
   ]
  },
  {
   "cell_type": "markdown",
   "id": "5c4b8bbf-7d7e-4044-8543-03ecb912f0af",
   "metadata": {},
   "source": [
    "## Group by transactions"
   ]
  },
  {
   "cell_type": "code",
   "execution_count": 3,
   "id": "eafce978-3e42-4486-a48b-132bd51826e5",
   "metadata": {},
   "outputs": [
    {
     "name": "stdout",
     "output_type": "stream",
     "text": [
      "TransactionNo\n",
      "536365    {85123A, 84406B, 84029G, 71053, 84029E, 22752,...\n",
      "536366                                       {22632, 22633}\n",
      "536367    {21754, 22623, 48187, 22622, 21777, 22310, 227...\n",
      "536368                         {22912, 22914, 22960, 22913}\n",
      "536369                                              {21756}\n",
      "536370    {21731, 10002, 21913, 21791, 22726, 21035, 225...\n",
      "536371                                              {22086}\n",
      "536372                                       {22632, 22633}\n",
      "536373    {82483, 21068, 85123A, 20679, 84406B, 71053, 8...\n",
      "536374                                              {21258}\n",
      "Name: ProductNo, dtype: object\n"
     ]
    }
   ],
   "source": [
    "transactions = data.groupby('TransactionNo')['ProductNo'].apply(set)\n",
    "\n",
    "print(transactions.head(10))"
   ]
  },
  {
   "cell_type": "markdown",
   "id": "67e376e6-7aa5-4a08-a9a8-5c165e3a2064",
   "metadata": {},
   "source": [
    "## Set minimum support and confidence\n",
    "The minimum confidence was chosen because of time reasons otherwise the execution would take too long"
   ]
  },
  {
   "cell_type": "code",
   "execution_count": 4,
   "id": "a52a458b-a188-42e6-930b-3d83c6c73777",
   "metadata": {},
   "outputs": [],
   "source": [
    "min_support = len(transactions) * 0.02\n",
    "min_confidence = 0.6"
   ]
  },
  {
   "cell_type": "markdown",
   "id": "d4be66ff-2f89-4718-9320-3762ed8df309",
   "metadata": {},
   "source": [
    "## 1-itemset"
   ]
  },
  {
   "cell_type": "code",
   "execution_count": 5,
   "id": "68e142f6-77e3-4bef-8bdd-41cb3823b49e",
   "metadata": {},
   "outputs": [],
   "source": [
    "start_time = time.time()\n",
    "counts = pd.Series([item for transaction in transactions for item in transaction]).value_counts()\n",
    "itemset_1 = counts[counts > min_support]\n",
    "current_items = set(itemset_1.index)\n",
    "itemset_1.index = [(i,) for i in itemset_1.index]\n",
    "itemsets = [itemset_1]"
   ]
  },
  {
   "cell_type": "markdown",
   "id": "6ae4a221-64f8-480e-a903-621ee7835358",
   "metadata": {},
   "source": [
    "## Next itemsets"
   ]
  },
  {
   "cell_type": "code",
   "execution_count": 6,
   "id": "df9b6c65-8f37-4dc9-933a-d2f7a200a44a",
   "metadata": {},
   "outputs": [],
   "source": [
    "k = 2\n",
    "while True:\n",
    "    sets = list(combinations(current_items, k))\n",
    "    sets = [tuple(sorted(tup)) for tup in sets]\n",
    "    counts = pd.Series([s for s in sets for transaction in transactions if set(s).issubset(transaction)]).value_counts()\n",
    "    itemset_k = counts[counts > min_support]\n",
    "    current_items = {item for tup in itemset_k.index for item in tup}\n",
    "    k += 1\n",
    "    if itemset_k.empty or k > len(itemset_1):\n",
    "        break\n",
    "    else:\n",
    "        itemsets.append(itemset_k)"
   ]
  },
  {
   "cell_type": "markdown",
   "id": "34a0e009-66d6-4674-974e-760f4786e523",
   "metadata": {},
   "source": [
    "## Find rules"
   ]
  },
  {
   "cell_type": "code",
   "execution_count": 7,
   "id": "5b01bc4d-da46-41e4-bfb4-58115234af97",
   "metadata": {},
   "outputs": [
    {
     "name": "stdout",
     "output_type": "stream",
     "text": [
      "Time for basic apriori: 198.6903212070465\n",
      "Rule: ('22386',) -> {'85099B'} | Confidence: 0.6767\n",
      "Rule: ('22697',) -> {'22699'} | Confidence: 0.7417\n",
      "Rule: ('22699',) -> {'22697'} | Confidence: 0.7000\n",
      "Rule: ('21931',) -> {'85099B'} | Confidence: 0.6103\n",
      "Rule: ('22726',) -> {'22727'} | Confidence: 0.6454\n",
      "Rule: ('22697',) -> {'22698'} | Confidence: 0.6093\n",
      "Rule: ('22698',) -> {'22697'} | Confidence: 0.8040\n",
      "Rule: ('22698',) -> {'22699'} | Confidence: 0.7665\n",
      "Rule: ('85099C',) -> {'85099B'} | Confidence: 0.6262\n",
      "Rule: ('22910',) -> {'22086'} | Confidence: 0.6671\n",
      "Rule: ('23300',) -> {'23301'} | Confidence: 0.7176\n",
      "Rule: ('21928',) -> {'85099B'} | Confidence: 0.6691\n",
      "Rule: ('85099F',) -> {'85099B'} | Confidence: 0.6504\n",
      "Rule: ('22630',) -> {'22629'} | Confidence: 0.6256\n",
      "Rule: ('20712',) -> {'85099B'} | Confidence: 0.6170\n",
      "Rule: ('22356',) -> {'20724'} | Confidence: 0.6921\n",
      "Rule: ('20719',) -> {'20724'} | Confidence: 0.6014\n",
      "Rule: ('21733',) -> {'85123A'} | Confidence: 0.6658\n",
      "Rule: ('20723',) -> {'20724'} | Confidence: 0.6676\n",
      "Rule: ('22698', '22699') -> {'22697'} | Confidence: 0.8941\n",
      "Rule: ('22697', '22698') -> {'22699'} | Confidence: 0.8525\n",
      "Rule: ('22698',) -> {'22697', '22699'} | Confidence: 0.6854\n",
      "Rule: ('22697', '22699') -> {'22698'} | Confidence: 0.7003\n"
     ]
    }
   ],
   "source": [
    "rules = []\n",
    "for counts in itemsets[1:]:\n",
    "    for itemset in counts.index:\n",
    "        sets = set()\n",
    "        for i in range(1, len(itemset)):\n",
    "            sets.update(combinations(itemset, i))\n",
    "        for s in sets:\n",
    "            confidence = counts[itemset]/itemsets[len(s)-1][s]\n",
    "            if confidence > min_confidence:\n",
    "                rules.append((s, set(s).symmetric_difference(itemset), confidence))\n",
    "basic_apriori_time = time.time() - start_time\n",
    "print(f\"Time for basic apriori: {basic_apriori_time}\")\n",
    "for antecedent, consequent,  confidence in rules:\n",
    "    print(f\"Rule: {antecedent} -> {consequent} | Confidence: {confidence:.4f}\")"
   ]
  },
  {
   "cell_type": "markdown",
   "id": "c7ef06a0-c784-4af0-b06c-e3137429c481",
   "metadata": {},
   "source": [
    "# FP-growth algorithm"
   ]
  },
  {
   "cell_type": "code",
   "execution_count": 40,
   "id": "897970cd-9202-443d-b707-e806855051fc",
   "metadata": {},
   "outputs": [
    {
     "name": "stdout",
     "output_type": "stream",
     "text": [
      "Time for basic apriori: 0.8176543712615967\n",
      "\n",
      "Frequent Itemsets (FP-Growth):\n",
      "      support         itemsets\n",
      "0    0.099595         (85123A)\n",
      "1    0.020945          (22633)\n",
      "2    0.063222          (84879)\n",
      "3    0.033917          (21754)\n",
      "4    0.027194          (21755)\n",
      "..        ...              ...\n",
      "271  0.020988   (23298, 47566)\n",
      "272  0.022324   (23203, 23202)\n",
      "273  0.025082  (85099B, 23203)\n",
      "274  0.021763   (23209, 23203)\n",
      "275  0.023660   (23301, 23300)\n",
      "\n",
      "[276 rows x 2 columns]\n",
      "\n",
      "Association Rules (FP-Growth):\n",
      "       antecedents     consequents  antecedent support  consequent support  \\\n",
      "0          (22726)         (22727)            0.043139            0.046587   \n",
      "1          (21733)        (85123A)            0.032494            0.099595   \n",
      "2          (22386)        (85099B)            0.053051            0.092010   \n",
      "3          (21931)        (85099B)            0.051758            0.092010   \n",
      "4         (85099C)        (85099B)            0.040812            0.092010   \n",
      "5          (20723)         (20724)            0.031632            0.045251   \n",
      "6          (22910)         (22086)            0.035856            0.050422   \n",
      "7         (85099F)        (85099B)            0.036114            0.092010   \n",
      "8          (22630)         (22629)            0.037063            0.039131   \n",
      "9          (22697)         (22699)            0.045552            0.048268   \n",
      "10         (22699)         (22697)            0.048268            0.045552   \n",
      "11         (20712)        (85099B)            0.037580            0.092010   \n",
      "12         (21928)        (85099B)            0.035166            0.092010   \n",
      "13         (20719)         (20724)            0.036330            0.045251   \n",
      "14         (22356)         (20724)            0.032753            0.045251   \n",
      "15         (22698)         (22697)            0.034520            0.045552   \n",
      "16         (22697)         (22698)            0.045552            0.034520   \n",
      "17         (22698)         (22699)            0.034520            0.048268   \n",
      "18  (22698, 22697)         (22699)            0.027754            0.048268   \n",
      "19  (22698, 22699)         (22697)            0.026461            0.045552   \n",
      "20  (22697, 22699)         (22698)            0.033787            0.034520   \n",
      "21         (22698)  (22697, 22699)            0.034520            0.033787   \n",
      "22         (23300)         (23301)            0.032968            0.039821   \n",
      "\n",
      "     support  confidence       lift  leverage  conviction  zhangs_metric  \n",
      "0   0.027840    0.645355  13.852737  0.025830    2.688357       0.969642  \n",
      "1   0.021634    0.665782   6.684906  0.018398    2.694069       0.878971  \n",
      "2   0.035899    0.676686   7.354479  0.031018    2.808381       0.912434  \n",
      "3   0.031589    0.610325   6.633244  0.026827    2.330120       0.895599  \n",
      "4   0.025556    0.626188   6.805651  0.021801    2.429002       0.889360  \n",
      "5   0.021117    0.667575  14.752770  0.019686    2.872073       0.962668  \n",
      "6   0.023918    0.667067  13.229598  0.022110    2.852161       0.958790  \n",
      "7   0.023487    0.650358   7.068340  0.020164    2.596913       0.890691  \n",
      "8   0.023186    0.625581  15.986774  0.021735    2.566296       0.973530  \n",
      "9   0.033787    0.741722  15.366887  0.031589    3.684913       0.979546  \n",
      "10  0.033787    0.700000  15.366887  0.031589    3.181492       0.982340  \n",
      "11  0.023186    0.616972   6.705494  0.019728    2.370561       0.884093  \n",
      "12  0.023530    0.669118   7.272228  0.020295    2.744148       0.893927  \n",
      "13  0.021850    0.601423  13.290886  0.020206    2.395397       0.959624  \n",
      "14  0.022669    0.692105  15.294867  0.021186    3.100895       0.966267  \n",
      "15  0.027754    0.803995  17.649858  0.026181    4.869506       0.977071  \n",
      "16  0.027754    0.609272  17.649858  0.026181    2.470974       0.988365  \n",
      "17  0.026461    0.766542  15.881104  0.024795    4.076672       0.970535  \n",
      "18  0.023660    0.852484  17.661652  0.022320    6.451744       0.970310  \n",
      "19  0.023660    0.894137  19.628714  0.022454    9.015858       0.974850  \n",
      "20  0.023660    0.700255  20.285542  0.022493    3.221006       0.983949  \n",
      "21  0.023660    0.685393  20.285542  0.022493    3.071176       0.984695  \n",
      "22  0.023660    0.717647  18.021951  0.022347    3.400635       0.976713  \n"
     ]
    }
   ],
   "source": [
    "from mlxtend.preprocessing import TransactionEncoder\n",
    "from mlxtend.frequent_patterns import fpgrowth,apriori,association_rules\n",
    "\n",
    "\n",
    "\n",
    "encoder = TransactionEncoder()\n",
    "preproc = encoder.fit(transactions).transform(transactions)\n",
    "data = pd.DataFrame(preproc, columns=encoder.columns_)\n",
    "\n",
    "start_time = time.time()\n",
    "\n",
    "frequent_itemsets_fpgrowth = fpgrowth(data, min_support=0.02, use_colnames=True)\n",
    "\n",
    "rules_fpgrowth = association_rules(frequent_itemsets_fpgrowth, metric=\"confidence\", min_threshold=0.6)\n",
    "fp_time = time.time() - start_time\n",
    "\n",
    "print(f\"Time for basic apriori: {fp_time}\")\n",
    "\n",
    "print(\"\\nFrequent Itemsets (FP-Growth):\")\n",
    "print(frequent_itemsets_fpgrowth)\n",
    "print(\"\\nAssociation Rules (FP-Growth):\")\n",
    "print(rules_fpgrowth)"
   ]
  },
  {
   "cell_type": "markdown",
   "id": "042c229d-edda-461e-8584-0520a77c1a2b",
   "metadata": {},
   "source": [
    "# Better apriori implementation"
   ]
  },
  {
   "cell_type": "code",
   "execution_count": 41,
   "id": "834d47c1-0cce-4e65-926a-ac5d506821b1",
   "metadata": {},
   "outputs": [
    {
     "name": "stdout",
     "output_type": "stream",
     "text": [
      "Time for better apriori: 2.7918524742126465\n",
      "\n",
      "Frequent Itemsets (Apriori):\n",
      "      support               itemsets\n",
      "0    0.022496                (15036)\n",
      "1    0.023574               (15056N)\n",
      "2    0.030340                (20685)\n",
      "3    0.022841                (20711)\n",
      "4    0.037580                (20712)\n",
      "..        ...                    ...\n",
      "271  0.023660         (23301, 23300)\n",
      "272  0.023487        (82494L, 82482)\n",
      "273  0.025556       (85099B, 85099C)\n",
      "274  0.023487       (85099B, 85099F)\n",
      "275  0.023660  (22698, 22697, 22699)\n",
      "\n",
      "[276 rows x 2 columns]\n",
      "\n",
      "Association Rules (Apriori):\n",
      "       antecedents     consequents  antecedent support  consequent support  \\\n",
      "0          (20712)        (85099B)            0.037580            0.092010   \n",
      "1          (20719)         (20724)            0.036330            0.045251   \n",
      "2          (20723)         (20724)            0.031632            0.045251   \n",
      "3          (22356)         (20724)            0.032753            0.045251   \n",
      "4          (21733)        (85123A)            0.032494            0.099595   \n",
      "5          (21928)        (85099B)            0.035166            0.092010   \n",
      "6          (21931)        (85099B)            0.051758            0.092010   \n",
      "7          (22910)         (22086)            0.035856            0.050422   \n",
      "8          (22386)        (85099B)            0.053051            0.092010   \n",
      "9          (22630)         (22629)            0.037063            0.039131   \n",
      "10         (22698)         (22697)            0.034520            0.045552   \n",
      "11         (22697)         (22698)            0.045552            0.034520   \n",
      "12         (22697)         (22699)            0.045552            0.048268   \n",
      "13         (22699)         (22697)            0.048268            0.045552   \n",
      "14         (22698)         (22699)            0.034520            0.048268   \n",
      "15         (22726)         (22727)            0.043139            0.046587   \n",
      "16         (23300)         (23301)            0.032968            0.039821   \n",
      "17        (85099C)        (85099B)            0.040812            0.092010   \n",
      "18        (85099F)        (85099B)            0.036114            0.092010   \n",
      "19  (22698, 22697)         (22699)            0.027754            0.048268   \n",
      "20  (22698, 22699)         (22697)            0.026461            0.045552   \n",
      "21  (22697, 22699)         (22698)            0.033787            0.034520   \n",
      "22         (22698)  (22697, 22699)            0.034520            0.033787   \n",
      "\n",
      "     support  confidence       lift  leverage  conviction  zhangs_metric  \n",
      "0   0.023186    0.616972   6.705494  0.019728    2.370561       0.884093  \n",
      "1   0.021850    0.601423  13.290886  0.020206    2.395397       0.959624  \n",
      "2   0.021117    0.667575  14.752770  0.019686    2.872073       0.962668  \n",
      "3   0.022669    0.692105  15.294867  0.021186    3.100895       0.966267  \n",
      "4   0.021634    0.665782   6.684906  0.018398    2.694069       0.878971  \n",
      "5   0.023530    0.669118   7.272228  0.020295    2.744148       0.893927  \n",
      "6   0.031589    0.610325   6.633244  0.026827    2.330120       0.895599  \n",
      "7   0.023918    0.667067  13.229598  0.022110    2.852161       0.958790  \n",
      "8   0.035899    0.676686   7.354479  0.031018    2.808381       0.912434  \n",
      "9   0.023186    0.625581  15.986774  0.021735    2.566296       0.973530  \n",
      "10  0.027754    0.803995  17.649858  0.026181    4.869506       0.977071  \n",
      "11  0.027754    0.609272  17.649858  0.026181    2.470974       0.988365  \n",
      "12  0.033787    0.741722  15.366887  0.031589    3.684913       0.979546  \n",
      "13  0.033787    0.700000  15.366887  0.031589    3.181492       0.982340  \n",
      "14  0.026461    0.766542  15.881104  0.024795    4.076672       0.970535  \n",
      "15  0.027840    0.645355  13.852737  0.025830    2.688357       0.969642  \n",
      "16  0.023660    0.717647  18.021951  0.022347    3.400635       0.976713  \n",
      "17  0.025556    0.626188   6.805651  0.021801    2.429002       0.889360  \n",
      "18  0.023487    0.650358   7.068340  0.020164    2.596913       0.890691  \n",
      "19  0.023660    0.852484  17.661652  0.022320    6.451744       0.970310  \n",
      "20  0.023660    0.894137  19.628714  0.022454    9.015858       0.974850  \n",
      "21  0.023660    0.700255  20.285542  0.022493    3.221006       0.983949  \n",
      "22  0.023660    0.685393  20.285542  0.022493    3.071176       0.984695  \n"
     ]
    }
   ],
   "source": [
    "start_time = time.time()\n",
    "frequent_itemsets_apriori = apriori(data, min_support=0.02, use_colnames=True)\n",
    "rules_apriori = association_rules(frequent_itemsets_apriori, metric=\"confidence\", min_threshold=0.6)\n",
    "better_apriori_time = time.time() - start_time\n",
    "\n",
    "print(f\"Time for better apriori: {better_apriori_time}\")\n",
    "\n",
    "print(\"\\nFrequent Itemsets (Apriori):\")\n",
    "print(frequent_itemsets_apriori)\n",
    "print(\"\\nAssociation Rules (Apriori):\")\n",
    "print(rules_apriori)"
   ]
  },
  {
   "cell_type": "markdown",
   "id": "ebded4fd-3f60-482d-be56-42025beb83f3",
   "metadata": {},
   "source": []
  }
 ],
 "metadata": {
  "kernelspec": {
   "display_name": "Python (venv)",
   "language": "python",
   "name": "venv"
  },
  "language_info": {
   "codemirror_mode": {
    "name": "ipython",
    "version": 3
   },
   "file_extension": ".py",
   "mimetype": "text/x-python",
   "name": "python",
   "nbconvert_exporter": "python",
   "pygments_lexer": "ipython3",
   "version": "3.12.7"
  }
 },
 "nbformat": 4,
 "nbformat_minor": 5
}
